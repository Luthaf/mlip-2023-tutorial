{
 "cells": [
  {
   "cell_type": "markdown",
   "metadata": {},
   "source": [
    "# Running MD with LAMMPS\n",
    "\n",
    "In this notebook, we will use LAMMPS (https://lammps.org/) to run a Molecular\n",
    "Dynamics simulation, using the exact same potential we just exported and used\n",
    "from ASE.\n",
    "\n",
    "This demonstrate how metatensor models can be used from multiple MD engines in\n",
    "the same way. Additionally, this shows that while the models where defined using\n",
    "Python, they can be loaded and used from a pure C++ simulation engine through\n",
    "TorchScript."
   ]
  },
  {
   "cell_type": "code",
   "execution_count": null,
   "metadata": {},
   "outputs": [],
   "source": [
    "import os\n",
    "import subprocess\n",
    "\n",
    "import chemiscope\n",
    "import ase.io\n"
   ]
  },
  {
   "cell_type": "markdown",
   "metadata": {},
   "source": [
    "If you are **NOT** running on CSC Puhti, please change the path below to the path of\n",
    "your LAMMPS installation including `pair_style metatensor`."
   ]
  },
  {
   "cell_type": "code",
   "execution_count": null,
   "metadata": {},
   "outputs": [],
   "source": [
    "LAMMPS_EXE = \"/projappl/project_2008666/metatensor/env/bin/lmp\"\n"
   ]
  },
  {
   "cell_type": "markdown",
   "metadata": {},
   "source": [
    "To run MD with LAMMPS, we'll need two input files: one defining the initial\n",
    "conformation of the atoms and another one defining the simulation settings."
   ]
  },
  {
   "cell_type": "code",
   "execution_count": null,
   "metadata": {},
   "outputs": [],
   "source": [
    "# Write the input structure using ase\n",
    "frame = ase.io.read(\"ethanol_conformers_dftb.xyz\", \"0\")\n",
    "frame.cell = [12, 12, 12]\n",
    "ase.io.write(\n",
    "    os.path.join(\"simulation\", \"ethanol.lmp\"),\n",
    "    frame,\n",
    "    format=\"lammps-data\",\n",
    "    atom_style=\"full\",\n",
    "    specorder=[\"H\", \"C\", \"O\"],\n",
    ")\n",
    "\n",
    "with open(os.path.join(\"simulation\", \"ethanol.lmp\")) as fd:\n",
    "    print(fd.read())\n"
   ]
  },
  {
   "cell_type": "code",
   "execution_count": null,
   "metadata": {},
   "outputs": [],
   "source": [
    "# Write the LAMMPS input manually\n",
    "\n",
    "LAMMPS_INPUT = \"\"\"\n",
    "# use Angstroms, eV, ps as units\n",
    "units metal\n",
    "# use non-periodic, fixed boundaries\n",
    "boundary f f f\n",
    "\n",
    "# read the data we just wrote with ASE\n",
    "atom_style full\n",
    "read_data ethanol.lmp\n",
    "\n",
    "# set atoms masses\n",
    "mass 1 1.008\n",
    "mass 2 12.011\n",
    "mass 3 15.999\n",
    "\n",
    "# Potential definition, using a custom pair style.\n",
    "# This will load the model we just exported\n",
    "pair_style metatensor ../ethanol-model-with-lj.pt\n",
    "\n",
    "# map from LAMMPS atoms types to the species in the model\n",
    "#          LAMMPS LAMMPS        SPECIES\n",
    "pair_coeff    1     1              1\n",
    "pair_coeff    2     2              6\n",
    "pair_coeff    3     3              8\n",
    "\n",
    "timestep 0.001  # 1 fs timestep\n",
    "fix 1 all nve   # use NVE ensemble integration\n",
    "\n",
    "\n",
    "# output information every step: temperature, potential energy, total energy\n",
    "thermo 1\n",
    "thermo_style custom step temp pe etotal\n",
    "\n",
    "\n",
    "# Output the trajectory in XYZ format, using actual atom names\n",
    "# instead of LAMMPS numeric types\n",
    "dump 1 all xyz 1 trajectory.xyz\n",
    "dump_modify 1 element H C O\n",
    "\n",
    "# Run the simulation for 80 steps\n",
    "run 80\n",
    "\"\"\"\n",
    "\n",
    "with open(os.path.join(\"simulation\", \"run.in\"), \"w\") as fd:\n",
    "    fd.write(LAMMPS_INPUT)\n"
   ]
  },
  {
   "cell_type": "markdown",
   "metadata": {},
   "source": [
    "We can now start the simulation in a sub-process, running LAMMPS with the input\n",
    "file we defined above."
   ]
  },
  {
   "cell_type": "code",
   "execution_count": null,
   "metadata": {},
   "outputs": [],
   "source": [
    "subprocess.run(\n",
    "    [LAMMPS_EXE, \"-in\", \"run.in\"],\n",
    "    cwd=\"simulation\"\n",
    ")\n"
   ]
  },
  {
   "cell_type": "markdown",
   "metadata": {},
   "source": [
    "Let's visualize the trajectory!"
   ]
  },
  {
   "cell_type": "code",
   "execution_count": null,
   "metadata": {},
   "outputs": [],
   "source": [
    "trajectory = ase.io.read(os.path.join(\"simulation\", \"trajectory.xyz\"), \":\", format=\"xyz\")\n",
    "\n",
    "chemiscope.show(\n",
    "    trajectory, mode=\"structure\", settings={\"structure\": [{\"playbackDelay\": 50}]}\n",
    ")\n"
   ]
  }
 ],
 "metadata": {
  "kernelspec": {
   "display_name": "virtualenv",
   "language": "python",
   "name": "python3"
  },
  "language_info": {
   "codemirror_mode": {
    "name": "ipython",
    "version": 3
   },
   "file_extension": ".py",
   "mimetype": "text/x-python",
   "name": "python",
   "nbconvert_exporter": "python",
   "pygments_lexer": "ipython3",
   "version": "3.11.6"
  }
 },
 "nbformat": 4,
 "nbformat_minor": 2
}
