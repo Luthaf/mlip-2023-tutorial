{
 "cells": [
  {
   "cell_type": "markdown",
   "metadata": {},
   "source": [
    "# Running MD with ASE and metatensor\n",
    "\n",
    "Now that we have a working model, let's use it to run some MD simulations! We'll\n",
    "use ASE as our MD engine, since it is easy to run directly inside a jupyter\n",
    "notebook."
   ]
  },
  {
   "cell_type": "code",
   "execution_count": null,
   "metadata": {},
   "outputs": [],
   "source": [
    "import ase\n",
    "\n",
    "import ase.md\n",
    "import ase.io\n",
    "import ase.units\n",
    "\n",
    "import chemiscope\n",
    "\n",
    "import rascaline.torch\n",
    "import metatensor.torch.atomistic.ase_calculator\n"
   ]
  },
  {
   "cell_type": "markdown",
   "metadata": {},
   "source": [
    "We'll start our simulation from the first conformer in our training set"
   ]
  },
  {
   "cell_type": "code",
   "execution_count": null,
   "metadata": {},
   "outputs": [],
   "source": [
    "atoms = ase.io.read(\"../propenol_conformers_dftb.xyz\", \"0\")\n",
    "\n",
    "chemiscope.show([atoms], mode=\"structure\")\n"
   ]
  },
  {
   "cell_type": "markdown",
   "metadata": {},
   "source": [
    "`metatensor.torch.atomistic.ase_calculator.MetatensorCalculator` is an ASE\n",
    "`Calculator` that we can use to load back our saved model and integrate it with\n",
    "ASE!"
   ]
  },
  {
   "cell_type": "code",
   "execution_count": null,
   "metadata": {},
   "outputs": [],
   "source": [
    "atoms.calc = metatensor.torch.atomistic.ase_calculator.MetatensorCalculator(\n",
    "    \"propenol-model.pt\"\n",
    ")\n",
    "\n",
    "# we'll also need an integrator for the MD\n",
    "integrator = ase.md.VelocityVerlet(atoms, timestep=1 * ase.units.fs)\n"
   ]
  },
  {
   "cell_type": "markdown",
   "metadata": {},
   "source": [
    "Let's run the simulation for 100 steps, and keep the trajectory around for visualization.\n",
    "\n",
    "| ![TASK](../images/clipboard.png) | Make a copy of the atoms after each simulation step, and put it in the `trajectory` |\n",
    "|-------------------------------|-------------------------------------------------------------------------------------|"
   ]
  },
  {
   "cell_type": "code",
   "execution_count": null,
   "metadata": {},
   "outputs": [],
   "source": [
    "trajectory = [atoms.copy()]\n",
    "\n",
    "for _ in range(100):\n",
    "    integrator.run(1)\n",
    "    trajectory.append(atoms.copy())\n"
   ]
  },
  {
   "cell_type": "markdown",
   "metadata": {},
   "source": [
    "We can now visualize our trajectory."
   ]
  },
  {
   "cell_type": "code",
   "execution_count": null,
   "metadata": {},
   "outputs": [],
   "source": [
    "chemiscope.show(\n",
    "    trajectory, mode=\"structure\", settings={\"structure\": [{\"playbackDelay\": 50}]}\n",
    ")\n"
   ]
  },
  {
   "cell_type": "markdown",
   "metadata": {},
   "source": [
    "Uh oh, it seems that our potential is not very stable …\n",
    "\n",
    "This is expected here, since we trained a very simplified potential. There are\n",
    "multiple ways to improve it:\n",
    "\n",
    "- training on more data. This includes training with more structure, and\n",
    "  training on both energies and forces simultaneously.\n",
    "- training a more complex model. A first step could be to have different models \n",
    "  for different central atomic species.\n",
    "- adding more physics inside the model\n",
    "\n",
    "For this tutorial, we will start with the last option, demonstrating how\n",
    "metatensor allow you to write your own Python code and use it in a simulation,\n",
    "and how it allows you to combine multiple building blocks in a single model.\n",
    "\n",
    "Here, one issue is that our model is not repulsive enough at short distances,\n",
    "and the atoms end up very close to one another. To fix this, in the next\n",
    "notebook we will add a Lennard-Jones baseline to the model."
   ]
  }
 ],
 "metadata": {
  "kernelspec": {
   "display_name": "virtualenv",
   "language": "python",
   "name": "python3"
  },
  "language_info": {
   "codemirror_mode": {
    "name": "ipython",
    "version": 3
   },
   "file_extension": ".py",
   "mimetype": "text/x-python",
   "name": "python",
   "nbconvert_exporter": "python",
   "pygments_lexer": "ipython3",
   "version": "3.11.6"
  }
 },
 "nbformat": 4,
 "nbformat_minor": 2
}
